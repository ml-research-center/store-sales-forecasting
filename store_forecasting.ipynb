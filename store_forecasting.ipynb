{
 "cells": [
  {
   "cell_type": "markdown",
   "id": "0f526879",
   "metadata": {},
   "source": [
    "# **Retail Sales Forecasting for Strategic Inventory and Revenue Planning**"
   ]
  },
  {
   "cell_type": "markdown",
   "id": "e7a573be",
   "metadata": {},
   "source": [
    "In retail, understanding future sales trends is essential for managing inventory, planning marketing campaigns, and maximizing revenue. Overstocking ties up capital, while understocking leads to missed sales opportunities and poor customer satisfaction. Accurate sales forecasting helps retailers make data-driven decisions that reduce operational costs and optimize performance."
   ]
  },
  {
   "cell_type": "markdown",
   "id": "efb53135",
   "metadata": {},
   "source": [
    "## **Objective**"
   ]
  },
  {
   "cell_type": "markdown",
   "id": "9ac81d65",
   "metadata": {},
   "source": [
    "This project aims to develop a predictive model that accurately forecasts monthly sales based on historical transaction data. Using time series techniques and feature engineering, the goal is to anticipate future sales performance and evaluate forecast accuracy using standard KPIs such as Mean Absolute Percentage Error (MAPE), Root Mean Squared Error (RMSE), and Forecast Bias."
   ]
  },
  {
   "cell_type": "markdown",
   "id": "b5e94f20",
   "metadata": {},
   "source": [
    "### **Business Values:**\n",
    "- An accurate forecast empowers retail decision-makers to:\n",
    "- Optimize inventory levels\n",
    "- Allocate resources efficiently\n",
    "- Improve financial planning and budgeting\n",
    "- Reduce waste and avoid stockouts\n",
    "- Align promotions with expected demand"
   ]
  },
  {
   "cell_type": "markdown",
   "id": "549d2420",
   "metadata": {},
   "source": [
    "**Key Questions to Answer:**\n",
    "\n",
    "* How can historical sales data be used to predict future demand?\n",
    "* Which forecasting model best captures seasonality and trend components?\n",
    "* How accurate are the predictions compared to actual sales?\n",
    "* What KPIs should be monitored to evaluate model performance?\n"
   ]
  },
  {
   "cell_type": "markdown",
   "id": "107496ac",
   "metadata": {},
   "source": [
    "# Frame the Problem and Look at the Big Picture\n",
    "1. Define the objective in business terms.\n",
    "2. How will your solution be used?\n",
    "3. What are the current solutions/workarounds (if any)?\n",
    "4. How should you frame this problem (supervised/unsupervised, online/offline, ...)?\n",
    "5. How should performance be measured? Is the performance measure aligned with the business objective?\n",
    "6. What would be the minimum performance needed to reach the business objective?\n",
    "7. What are comparable problems? Can you reuse experience or tools?\n",
    "8. Is human expertise available?\n",
    "9. How would you solve the problem manually?\n",
    "10. List the assumptions you (or others) have made so far. Verify assumptions if possible."
   ]
  },
  {
   "cell_type": "markdown",
   "id": "c31b8092",
   "metadata": {},
   "source": [
    "# **Get The Data**"
   ]
  },
  {
   "cell_type": "markdown",
   "id": "2b989e3c",
   "metadata": {},
   "source": [
    "This dataset is sourced from the [Superstore Sales Forecasting Dataset on Kaggle](https://www.kaggle.com/datasets/rohitsahoo/sales-forecasting), which includes transaction-level sales data from a fictional office supply retailer.\n",
    "\n",
    "The data includes order dates, shipping details, customer segments, product categories, and sales amounts.\n",
    "\n",
    "### Features of Interest:\n",
    "- `Order Date`: Date of purchase (used as the time index for forecasting)\n",
    "- `Sales`: Revenue generated from each transaction (forecast target)\n",
    "- `Category`, `Segment`, `Region`: Optional groupings for segmentation\n",
    "- `Product ID`, `Sub-Category`: Useful for granular forecasting"
   ]
  },
  {
   "cell_type": "code",
   "execution_count": 9,
   "id": "7fb61e0f",
   "metadata": {},
   "outputs": [],
   "source": [
    "import numpy as np\n",
    "import pandas as pd\n",
    "from pandas.plotting import scatter_matrix\n",
    "import matplotlib.pyplot as plt\n",
    "import seaborn as sns\n",
    "\n",
    "from sklearn.model_selection import train_test_split\n",
    "from sklearn.ensemble import RandomForestRegressor\n",
    "from sklearn.metrics import mean_absolute_error, mean_squared_error"
   ]
  },
  {
   "cell_type": "code",
   "execution_count": 4,
   "id": "9ede5f01",
   "metadata": {},
   "outputs": [
    {
     "data": {
      "application/vnd.microsoft.datawrangler.viewer.v0+json": {
       "columns": [
        {
         "name": "index",
         "rawType": "int64",
         "type": "integer"
        },
        {
         "name": "Row ID",
         "rawType": "int64",
         "type": "integer"
        },
        {
         "name": "Order ID",
         "rawType": "object",
         "type": "string"
        },
        {
         "name": "Order Date",
         "rawType": "object",
         "type": "string"
        },
        {
         "name": "Ship Date",
         "rawType": "object",
         "type": "string"
        },
        {
         "name": "Ship Mode",
         "rawType": "object",
         "type": "string"
        },
        {
         "name": "Customer ID",
         "rawType": "object",
         "type": "string"
        },
        {
         "name": "Customer Name",
         "rawType": "object",
         "type": "string"
        },
        {
         "name": "Segment",
         "rawType": "object",
         "type": "string"
        },
        {
         "name": "Country",
         "rawType": "object",
         "type": "string"
        },
        {
         "name": "City",
         "rawType": "object",
         "type": "string"
        },
        {
         "name": "State",
         "rawType": "object",
         "type": "string"
        },
        {
         "name": "Postal Code",
         "rawType": "float64",
         "type": "float"
        },
        {
         "name": "Region",
         "rawType": "object",
         "type": "string"
        },
        {
         "name": "Product ID",
         "rawType": "object",
         "type": "string"
        },
        {
         "name": "Category",
         "rawType": "object",
         "type": "string"
        },
        {
         "name": "Sub-Category",
         "rawType": "object",
         "type": "string"
        },
        {
         "name": "Product Name",
         "rawType": "object",
         "type": "string"
        },
        {
         "name": "Sales",
         "rawType": "float64",
         "type": "float"
        }
       ],
       "ref": "43757fca-c88c-4c88-8576-7e80872753b2",
       "rows": [
        [
         "0",
         "1",
         "CA-2017-152156",
         "08/11/2017",
         "11/11/2017",
         "Second Class",
         "CG-12520",
         "Claire Gute",
         "Consumer",
         "United States",
         "Henderson",
         "Kentucky",
         "42420.0",
         "South",
         "FUR-BO-10001798",
         "Furniture",
         "Bookcases",
         "Bush Somerset Collection Bookcase",
         "261.96"
        ],
        [
         "1",
         "2",
         "CA-2017-152156",
         "08/11/2017",
         "11/11/2017",
         "Second Class",
         "CG-12520",
         "Claire Gute",
         "Consumer",
         "United States",
         "Henderson",
         "Kentucky",
         "42420.0",
         "South",
         "FUR-CH-10000454",
         "Furniture",
         "Chairs",
         "Hon Deluxe Fabric Upholstered Stacking Chairs, Rounded Back",
         "731.94"
        ],
        [
         "2",
         "3",
         "CA-2017-138688",
         "12/06/2017",
         "16/06/2017",
         "Second Class",
         "DV-13045",
         "Darrin Van Huff",
         "Corporate",
         "United States",
         "Los Angeles",
         "California",
         "90036.0",
         "West",
         "OFF-LA-10000240",
         "Office Supplies",
         "Labels",
         "Self-Adhesive Address Labels for Typewriters by Universal",
         "14.62"
        ],
        [
         "3",
         "4",
         "US-2016-108966",
         "11/10/2016",
         "18/10/2016",
         "Standard Class",
         "SO-20335",
         "Sean O'Donnell",
         "Consumer",
         "United States",
         "Fort Lauderdale",
         "Florida",
         "33311.0",
         "South",
         "FUR-TA-10000577",
         "Furniture",
         "Tables",
         "Bretford CR4500 Series Slim Rectangular Table",
         "957.5775"
        ],
        [
         "4",
         "5",
         "US-2016-108966",
         "11/10/2016",
         "18/10/2016",
         "Standard Class",
         "SO-20335",
         "Sean O'Donnell",
         "Consumer",
         "United States",
         "Fort Lauderdale",
         "Florida",
         "33311.0",
         "South",
         "OFF-ST-10000760",
         "Office Supplies",
         "Storage",
         "Eldon Fold 'N Roll Cart System",
         "22.368"
        ]
       ],
       "shape": {
        "columns": 18,
        "rows": 5
       }
      },
      "text/html": [
       "<div>\n",
       "<style scoped>\n",
       "    .dataframe tbody tr th:only-of-type {\n",
       "        vertical-align: middle;\n",
       "    }\n",
       "\n",
       "    .dataframe tbody tr th {\n",
       "        vertical-align: top;\n",
       "    }\n",
       "\n",
       "    .dataframe thead th {\n",
       "        text-align: right;\n",
       "    }\n",
       "</style>\n",
       "<table border=\"1\" class=\"dataframe\">\n",
       "  <thead>\n",
       "    <tr style=\"text-align: right;\">\n",
       "      <th></th>\n",
       "      <th>Row ID</th>\n",
       "      <th>Order ID</th>\n",
       "      <th>Order Date</th>\n",
       "      <th>Ship Date</th>\n",
       "      <th>Ship Mode</th>\n",
       "      <th>Customer ID</th>\n",
       "      <th>Customer Name</th>\n",
       "      <th>Segment</th>\n",
       "      <th>Country</th>\n",
       "      <th>City</th>\n",
       "      <th>State</th>\n",
       "      <th>Postal Code</th>\n",
       "      <th>Region</th>\n",
       "      <th>Product ID</th>\n",
       "      <th>Category</th>\n",
       "      <th>Sub-Category</th>\n",
       "      <th>Product Name</th>\n",
       "      <th>Sales</th>\n",
       "    </tr>\n",
       "  </thead>\n",
       "  <tbody>\n",
       "    <tr>\n",
       "      <th>0</th>\n",
       "      <td>1</td>\n",
       "      <td>CA-2017-152156</td>\n",
       "      <td>08/11/2017</td>\n",
       "      <td>11/11/2017</td>\n",
       "      <td>Second Class</td>\n",
       "      <td>CG-12520</td>\n",
       "      <td>Claire Gute</td>\n",
       "      <td>Consumer</td>\n",
       "      <td>United States</td>\n",
       "      <td>Henderson</td>\n",
       "      <td>Kentucky</td>\n",
       "      <td>42420.0</td>\n",
       "      <td>South</td>\n",
       "      <td>FUR-BO-10001798</td>\n",
       "      <td>Furniture</td>\n",
       "      <td>Bookcases</td>\n",
       "      <td>Bush Somerset Collection Bookcase</td>\n",
       "      <td>261.9600</td>\n",
       "    </tr>\n",
       "    <tr>\n",
       "      <th>1</th>\n",
       "      <td>2</td>\n",
       "      <td>CA-2017-152156</td>\n",
       "      <td>08/11/2017</td>\n",
       "      <td>11/11/2017</td>\n",
       "      <td>Second Class</td>\n",
       "      <td>CG-12520</td>\n",
       "      <td>Claire Gute</td>\n",
       "      <td>Consumer</td>\n",
       "      <td>United States</td>\n",
       "      <td>Henderson</td>\n",
       "      <td>Kentucky</td>\n",
       "      <td>42420.0</td>\n",
       "      <td>South</td>\n",
       "      <td>FUR-CH-10000454</td>\n",
       "      <td>Furniture</td>\n",
       "      <td>Chairs</td>\n",
       "      <td>Hon Deluxe Fabric Upholstered Stacking Chairs,...</td>\n",
       "      <td>731.9400</td>\n",
       "    </tr>\n",
       "    <tr>\n",
       "      <th>2</th>\n",
       "      <td>3</td>\n",
       "      <td>CA-2017-138688</td>\n",
       "      <td>12/06/2017</td>\n",
       "      <td>16/06/2017</td>\n",
       "      <td>Second Class</td>\n",
       "      <td>DV-13045</td>\n",
       "      <td>Darrin Van Huff</td>\n",
       "      <td>Corporate</td>\n",
       "      <td>United States</td>\n",
       "      <td>Los Angeles</td>\n",
       "      <td>California</td>\n",
       "      <td>90036.0</td>\n",
       "      <td>West</td>\n",
       "      <td>OFF-LA-10000240</td>\n",
       "      <td>Office Supplies</td>\n",
       "      <td>Labels</td>\n",
       "      <td>Self-Adhesive Address Labels for Typewriters b...</td>\n",
       "      <td>14.6200</td>\n",
       "    </tr>\n",
       "    <tr>\n",
       "      <th>3</th>\n",
       "      <td>4</td>\n",
       "      <td>US-2016-108966</td>\n",
       "      <td>11/10/2016</td>\n",
       "      <td>18/10/2016</td>\n",
       "      <td>Standard Class</td>\n",
       "      <td>SO-20335</td>\n",
       "      <td>Sean O'Donnell</td>\n",
       "      <td>Consumer</td>\n",
       "      <td>United States</td>\n",
       "      <td>Fort Lauderdale</td>\n",
       "      <td>Florida</td>\n",
       "      <td>33311.0</td>\n",
       "      <td>South</td>\n",
       "      <td>FUR-TA-10000577</td>\n",
       "      <td>Furniture</td>\n",
       "      <td>Tables</td>\n",
       "      <td>Bretford CR4500 Series Slim Rectangular Table</td>\n",
       "      <td>957.5775</td>\n",
       "    </tr>\n",
       "    <tr>\n",
       "      <th>4</th>\n",
       "      <td>5</td>\n",
       "      <td>US-2016-108966</td>\n",
       "      <td>11/10/2016</td>\n",
       "      <td>18/10/2016</td>\n",
       "      <td>Standard Class</td>\n",
       "      <td>SO-20335</td>\n",
       "      <td>Sean O'Donnell</td>\n",
       "      <td>Consumer</td>\n",
       "      <td>United States</td>\n",
       "      <td>Fort Lauderdale</td>\n",
       "      <td>Florida</td>\n",
       "      <td>33311.0</td>\n",
       "      <td>South</td>\n",
       "      <td>OFF-ST-10000760</td>\n",
       "      <td>Office Supplies</td>\n",
       "      <td>Storage</td>\n",
       "      <td>Eldon Fold 'N Roll Cart System</td>\n",
       "      <td>22.3680</td>\n",
       "    </tr>\n",
       "  </tbody>\n",
       "</table>\n",
       "</div>"
      ],
      "text/plain": [
       "   Row ID        Order ID  Order Date   Ship Date       Ship Mode Customer ID  \\\n",
       "0       1  CA-2017-152156  08/11/2017  11/11/2017    Second Class    CG-12520   \n",
       "1       2  CA-2017-152156  08/11/2017  11/11/2017    Second Class    CG-12520   \n",
       "2       3  CA-2017-138688  12/06/2017  16/06/2017    Second Class    DV-13045   \n",
       "3       4  US-2016-108966  11/10/2016  18/10/2016  Standard Class    SO-20335   \n",
       "4       5  US-2016-108966  11/10/2016  18/10/2016  Standard Class    SO-20335   \n",
       "\n",
       "     Customer Name    Segment        Country             City       State  \\\n",
       "0      Claire Gute   Consumer  United States        Henderson    Kentucky   \n",
       "1      Claire Gute   Consumer  United States        Henderson    Kentucky   \n",
       "2  Darrin Van Huff  Corporate  United States      Los Angeles  California   \n",
       "3   Sean O'Donnell   Consumer  United States  Fort Lauderdale     Florida   \n",
       "4   Sean O'Donnell   Consumer  United States  Fort Lauderdale     Florida   \n",
       "\n",
       "   Postal Code Region       Product ID         Category Sub-Category  \\\n",
       "0      42420.0  South  FUR-BO-10001798        Furniture    Bookcases   \n",
       "1      42420.0  South  FUR-CH-10000454        Furniture       Chairs   \n",
       "2      90036.0   West  OFF-LA-10000240  Office Supplies       Labels   \n",
       "3      33311.0  South  FUR-TA-10000577        Furniture       Tables   \n",
       "4      33311.0  South  OFF-ST-10000760  Office Supplies      Storage   \n",
       "\n",
       "                                        Product Name     Sales  \n",
       "0                  Bush Somerset Collection Bookcase  261.9600  \n",
       "1  Hon Deluxe Fabric Upholstered Stacking Chairs,...  731.9400  \n",
       "2  Self-Adhesive Address Labels for Typewriters b...   14.6200  \n",
       "3      Bretford CR4500 Series Slim Rectangular Table  957.5775  \n",
       "4                     Eldon Fold 'N Roll Cart System   22.3680  "
      ]
     },
     "execution_count": 4,
     "metadata": {},
     "output_type": "execute_result"
    }
   ],
   "source": [
    "df = pd.read_csv('train.csv', parse_dates=[\"Order Date\", \"Ship Date\"])\n",
    "df.head()"
   ]
  },
  {
   "cell_type": "code",
   "execution_count": 7,
   "id": "a62ca739",
   "metadata": {},
   "outputs": [
    {
     "data": {
      "application/vnd.microsoft.datawrangler.viewer.v0+json": {
       "columns": [
        {
         "name": "index",
         "rawType": "object",
         "type": "string"
        },
        {
         "name": "Row ID",
         "rawType": "float64",
         "type": "float"
        },
        {
         "name": "Postal Code",
         "rawType": "float64",
         "type": "float"
        },
        {
         "name": "Sales",
         "rawType": "float64",
         "type": "float"
        }
       ],
       "ref": "dc4227f5-7859-4cc7-9753-d2e37055cddc",
       "rows": [
        [
         "count",
         "9800.0",
         "9789.0",
         "9800.0"
        ],
        [
         "mean",
         "4900.5",
         "55273.322402696904",
         "230.7690594591837"
        ],
        [
         "std",
         "2829.1606529145706",
         "32041.223412812957",
         "626.6518748388042"
        ],
        [
         "min",
         "1.0",
         "1040.0",
         "0.444"
        ],
        [
         "25%",
         "2450.75",
         "23223.0",
         "17.248"
        ],
        [
         "50%",
         "4900.5",
         "58103.0",
         "54.489999999999995"
        ],
        [
         "75%",
         "7350.25",
         "90008.0",
         "210.60500000000002"
        ],
        [
         "max",
         "9800.0",
         "99301.0",
         "22638.48"
        ]
       ],
       "shape": {
        "columns": 3,
        "rows": 8
       }
      },
      "text/html": [
       "<div>\n",
       "<style scoped>\n",
       "    .dataframe tbody tr th:only-of-type {\n",
       "        vertical-align: middle;\n",
       "    }\n",
       "\n",
       "    .dataframe tbody tr th {\n",
       "        vertical-align: top;\n",
       "    }\n",
       "\n",
       "    .dataframe thead th {\n",
       "        text-align: right;\n",
       "    }\n",
       "</style>\n",
       "<table border=\"1\" class=\"dataframe\">\n",
       "  <thead>\n",
       "    <tr style=\"text-align: right;\">\n",
       "      <th></th>\n",
       "      <th>Row ID</th>\n",
       "      <th>Postal Code</th>\n",
       "      <th>Sales</th>\n",
       "    </tr>\n",
       "  </thead>\n",
       "  <tbody>\n",
       "    <tr>\n",
       "      <th>count</th>\n",
       "      <td>9800.000000</td>\n",
       "      <td>9789.000000</td>\n",
       "      <td>9800.000000</td>\n",
       "    </tr>\n",
       "    <tr>\n",
       "      <th>mean</th>\n",
       "      <td>4900.500000</td>\n",
       "      <td>55273.322403</td>\n",
       "      <td>230.769059</td>\n",
       "    </tr>\n",
       "    <tr>\n",
       "      <th>std</th>\n",
       "      <td>2829.160653</td>\n",
       "      <td>32041.223413</td>\n",
       "      <td>626.651875</td>\n",
       "    </tr>\n",
       "    <tr>\n",
       "      <th>min</th>\n",
       "      <td>1.000000</td>\n",
       "      <td>1040.000000</td>\n",
       "      <td>0.444000</td>\n",
       "    </tr>\n",
       "    <tr>\n",
       "      <th>25%</th>\n",
       "      <td>2450.750000</td>\n",
       "      <td>23223.000000</td>\n",
       "      <td>17.248000</td>\n",
       "    </tr>\n",
       "    <tr>\n",
       "      <th>50%</th>\n",
       "      <td>4900.500000</td>\n",
       "      <td>58103.000000</td>\n",
       "      <td>54.490000</td>\n",
       "    </tr>\n",
       "    <tr>\n",
       "      <th>75%</th>\n",
       "      <td>7350.250000</td>\n",
       "      <td>90008.000000</td>\n",
       "      <td>210.605000</td>\n",
       "    </tr>\n",
       "    <tr>\n",
       "      <th>max</th>\n",
       "      <td>9800.000000</td>\n",
       "      <td>99301.000000</td>\n",
       "      <td>22638.480000</td>\n",
       "    </tr>\n",
       "  </tbody>\n",
       "</table>\n",
       "</div>"
      ],
      "text/plain": [
       "            Row ID   Postal Code         Sales\n",
       "count  9800.000000   9789.000000   9800.000000\n",
       "mean   4900.500000  55273.322403    230.769059\n",
       "std    2829.160653  32041.223413    626.651875\n",
       "min       1.000000   1040.000000      0.444000\n",
       "25%    2450.750000  23223.000000     17.248000\n",
       "50%    4900.500000  58103.000000     54.490000\n",
       "75%    7350.250000  90008.000000    210.605000\n",
       "max    9800.000000  99301.000000  22638.480000"
      ]
     },
     "execution_count": 7,
     "metadata": {},
     "output_type": "execute_result"
    }
   ],
   "source": [
    "df.describe()"
   ]
  }
 ],
 "metadata": {
  "kernelspec": {
   "display_name": "3.13.1",
   "language": "python",
   "name": "python3"
  },
  "language_info": {
   "codemirror_mode": {
    "name": "ipython",
    "version": 3
   },
   "file_extension": ".py",
   "mimetype": "text/x-python",
   "name": "python",
   "nbconvert_exporter": "python",
   "pygments_lexer": "ipython3",
   "version": "3.13.1"
  }
 },
 "nbformat": 4,
 "nbformat_minor": 5
}
